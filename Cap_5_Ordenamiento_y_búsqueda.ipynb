{
  "nbformat": 4,
  "nbformat_minor": 0,
  "metadata": {
    "colab": {
      "name": "Cap 5: Ordenamiento y búsqueda",
      "provenance": [],
      "include_colab_link": true
    },
    "kernelspec": {
      "name": "python3",
      "display_name": "Python 3"
    }
  },
  "cells": [
    {
      "cell_type": "markdown",
      "metadata": {
        "id": "view-in-github",
        "colab_type": "text"
      },
      "source": [
        "<a href=\"https://colab.research.google.com/github/Tavo826/Solucion-de-problemas-con-algoritmos-y-estructuras-de-datos-usando-python/blob/main/Cap_5_Ordenamiento_y_b%C3%BAsqueda.ipynb\" target=\"_parent\"><img src=\"https://colab.research.google.com/assets/colab-badge.svg\" alt=\"Open In Colab\"/></a>"
      ]
    },
    {
      "cell_type": "code",
      "metadata": {
        "id": "F9nRgku52mNQ"
      },
      "source": [
        "#Búsqueda secuencial O(n)\n",
        "\n",
        "def busquedaSecuencial(unaLista, item):\n",
        "  pos=0\n",
        "  encontrado=False\n",
        "  \n",
        "  while pos<len(unaLista) and not encontrado:\n",
        "    if unaLista[pos]==item:\n",
        "      encontrado=True\n",
        "    else:\n",
        "      pos=pos+1\n",
        "    \n",
        "  return encontrado\n",
        "\n",
        "listaPrueba=[1,2,32,8,17,19,42,13,0]\n",
        "print(busquedaSecuencial(listaPrueba,3))\n",
        "print(busquedaSecuencial(listaPrueba,19))\n",
        "\n",
        "#Búsqueda secuencial ordenada O(n)\n",
        "\n",
        "def busquedaSecuencialOrdenada(unaLista, item):\n",
        "  pos=0\n",
        "  encontrado=False\n",
        "  parar=False\n",
        "  while pos<len(unaLista) and not encontrado and not parar:\n",
        "    if unaLista[pos]==item:\n",
        "      encontrado=True\n",
        "    else:\n",
        "      if unaLista[pos]>item:\n",
        "        parar=True\n",
        "      else:\n",
        "        pos=pos+1\n",
        "  return encontrado\n",
        "\n",
        "listaPrueba=[0,1,2,8,13,17,19,32,42]\n",
        "print(busquedaSecuencialOrdenada(listaPrueba,3))\n",
        "print(busquedaSecuencialOrdenada(listaPrueba,13))"
      ],
      "execution_count": null,
      "outputs": []
    },
    {
      "cell_type": "code",
      "metadata": {
        "id": "yhQIP255ojaB",
        "colab": {
          "base_uri": "https://localhost:8080/",
          "height": 90
        },
        "outputId": "6127481b-4d7b-423b-e330-0e40fe68df65"
      },
      "source": [
        "#Búsqueda binaria O(log(n))\n",
        "\n",
        "def busquedaBinaria(unaLista,item):\n",
        "  primero=0\n",
        "  ultimo=len(unaLista)-1\n",
        "  encontrado=False\n",
        "  while primero<=ultimo and not encontrado:\n",
        "    puntoMedio=(primero+ultimo)//2\n",
        "    if unaLista[puntoMedio]==item:\n",
        "      encontrado=True\n",
        "    else:\n",
        "      if item<unaLista[puntoMedio]:\n",
        "        ultimo=puntoMedio-1\n",
        "      else:\n",
        "        primero=puntoMedio+1\n",
        "  return encontrado\n",
        "\n",
        "listaPrueba = [0,2,8,13,17,19,32,42]\n",
        "print(busquedaBinaria(listaPrueba, 3))\n",
        "print(busquedaBinaria(listaPrueba, 13))\n",
        "\n",
        "#Búsqueda binaria recursiva O(log(n))\n",
        "\n",
        "def busquedaBinariaRecursiva(unaLista,item):\n",
        "  if len(unaLista)==0:\n",
        "    return False\n",
        "  else:\n",
        "    puntoMedio=len(unaLista)//2\n",
        "    if unaLista[puntoMedio]==item:\n",
        "      return True\n",
        "    else:\n",
        "      if item<unaLista[puntoMedio]:\n",
        "        return busquedaBinariaRecursiva(unaLista[:puntoMedio],item)\n",
        "      else:\n",
        "        return busquedaBinariaRecursiva(unaLista[puntoMedio+1:],item)\n",
        "      \n",
        "listaPrueba = [0,2,8,13,17,19,32,42]\n",
        "print(busquedaBinariaRecursiva(listaPrueba, 3))\n",
        "print(busquedaBinariaRecursiva(listaPrueba, 13))"
      ],
      "execution_count": null,
      "outputs": [
        {
          "output_type": "stream",
          "text": [
            "False\n",
            "True\n",
            "False\n",
            "True\n"
          ],
          "name": "stdout"
        }
      ]
    },
    {
      "cell_type": "code",
      "metadata": {
        "id": "pFXVnKPtwtFD",
        "colab": {
          "base_uri": "https://localhost:8080/",
          "height": 72
        },
        "outputId": "961f2a2a-bb05-48ce-f237-67858da39617"
      },
      "source": [
        "#Ordenamiento burbuja O(n^2)\n",
        "\n",
        "def ordenamientoBurbuja(unaLista):\n",
        "  for numPasada in range(len(unaLista)-1,0,-1):\n",
        "    for i in range(numPasada):\n",
        "      if unaLista[i]>unaLista[i+1]:\n",
        "        temp=unaLista[i]\n",
        "        unaLista[i]=unaLista[i+1]\n",
        "        unaLista[i+1]=temp\n",
        "        \n",
        "unaLista=[54,26,93,17,77,31,44,55,20]\n",
        "ordenamientoBurbuja(unaLista)\n",
        "print(unaLista)\n",
        "\n",
        "#OrdenamientoBurbujaCorto(unaLisa):\n",
        "intercambios=True\n",
        "numPasada=len(unaLista)-1\n",
        "while numPasada>0 and intercambios:\n",
        "  intercambios=False\n",
        "  for i in range(numPasada):\n",
        "    if unaLista[i]>unaLista[i+1]:\n",
        "      intercambios=True\n",
        "      temp=unaLista[i]\n",
        "      unaLista[i]=unaLista[i+1]\n",
        "      unaLista[i+1]=temp\n",
        "    numPasada=numPasada-1\n",
        "    \n",
        "unaLista=[54,26,93,17,77,31,44,55,20]\n",
        "ordenamientoBurbuja(unaLista)\n",
        "print(unaLista)\n",
        "\n",
        "#Ordenamiento por selección O(n^2)\n",
        "\n",
        "def ordenamientoPorSeleccion(unaLista):\n",
        "  for llenarRanura in range(len(unaLista)-1,0,-1):\n",
        "    posicionDelMayor=0\n",
        "    for ubicacion in range(1,llenarRanura+1):\n",
        "      if unaLista[ubicacion]>unaLista[posicionDelMayor]:\n",
        "        posicionDelMayor=ubicacion\n",
        "        \n",
        "    temp=unaLista[llenarRanura]\n",
        "    unaLista[llenarRanura]=unaLista[posicionDelMayor]\n",
        "    unaLista[posicionDelMayor]=temp\n",
        "\n",
        "ordenamientoPorSeleccion(unaLista)\n",
        "print(unaLista)"
      ],
      "execution_count": null,
      "outputs": [
        {
          "output_type": "stream",
          "text": [
            "[17, 20, 26, 31, 44, 54, 55, 77, 93]\n",
            "[17, 20, 26, 31, 44, 54, 55, 77, 93]\n",
            "[17, 20, 26, 31, 44, 54, 55, 77, 93]\n"
          ],
          "name": "stdout"
        }
      ]
    },
    {
      "cell_type": "code",
      "metadata": {
        "id": "C-qBMJTS3ALE"
      },
      "source": [
        "#Ordenamiento por inserción O(n^2)\n",
        "\n",
        "def ordenamientoPorInsercion(unaLista):\n",
        "  for indice in range(1,len(unaLista)):\n",
        "    \n",
        "    valorActual=unaLista[indice]\n",
        "    posicion=indice\n",
        "    \n",
        "    while posicion>0 and unaLista[posicion-1]>valorActual:\n",
        "      unaLista[posicion]=unaLista[posicion-1]\n",
        "      posicion=posicion-1\n",
        "      \n",
        "    unaLista[posicion]=valorActual\n",
        "    \n",
        "unaLista=[54,26,93,17,77,31,44,55,20]\n",
        "ordenamientoPorInsercion(unaLista)\n",
        "print(unaLista)"
      ],
      "execution_count": null,
      "outputs": []
    },
    {
      "cell_type": "code",
      "metadata": {
        "id": "FyL2QderRbwi",
        "colab": {
          "base_uri": "https://localhost:8080/",
          "height": 90
        },
        "outputId": "89c0a58e-95e1-45d2-a2a3-aac2ce361977"
      },
      "source": [
        "#Ordenamiento de Shell O(n^2)\n",
        "\n",
        "def ordenamientoShell(unaLista):\n",
        "  contadorSublistas=len(unaLista)//2\n",
        "  while contadorSublistas>0:\n",
        "    \n",
        "    for posicionInicio in range(contadorSublistas):\n",
        "      brechaOrdenamientoPorInsercion(unaLista,posicionInicio,contadorSublistas)\n",
        "      \n",
        "    print(\"Después de los incrementos de tamaño\",contadorSublistas,\n",
        "            \"La lista es\",unaLista)\n",
        "    \n",
        "    contadorSublistas=contadorSublistas//2\n",
        "    \n",
        "def brechaOrdenamientoPorInsercion(unaLista,inicio,brecha):\n",
        "  for i in range(inicio+brecha,len(unaLista),brecha):\n",
        "    \n",
        "    valorActual=unaLista[i]\n",
        "    posicion=i\n",
        "    \n",
        "    while posicion>=brecha and unaLista[posicion-brecha]>valorActual:\n",
        "      unaLista[posicion]=unaLista[posicion-brecha]\n",
        "      posicion=posicion-brecha\n",
        "      \n",
        "    unaLista[posicion]=valorActual\n",
        "    \n",
        "unaLista=[54,26,93,17,77,31,44,55,20]\n",
        "ordenamientoShell(unaLista)\n",
        "print(unaLista)"
      ],
      "execution_count": null,
      "outputs": [
        {
          "output_type": "stream",
          "text": [
            "Después de los incrementos de tamaño 4 La lista es [20, 26, 44, 17, 54, 31, 93, 55, 77]\n",
            "Después de los incrementos de tamaño 2 La lista es [20, 17, 44, 26, 54, 31, 77, 55, 93]\n",
            "Después de los incrementos de tamaño 1 La lista es [17, 20, 26, 31, 44, 54, 55, 77, 93]\n",
            "[17, 20, 26, 31, 44, 54, 55, 77, 93]\n"
          ],
          "name": "stdout"
        }
      ]
    },
    {
      "cell_type": "code",
      "metadata": {
        "id": "AOoLXkB5VEYV"
      },
      "source": [
        "#Ordenamiento por mezcla O(nlog(n))\n",
        "def ordenamientoPorMezcla(unaLista):\n",
        "  print(\"Dividir \", unaLista)\n",
        "  if len(unaLista)>1:\n",
        "    mitad=len(unaLista)//2\n",
        "    mitadIzquierda=unaLista[:mitad]\n",
        "    mitadDerecha=unaLista[mitad:]\n",
        "    \n",
        "    ordenamientoPorMezcla(mitadIzquierda)\n",
        "    ordenamientoPorMezcla(mitadDerecha)\n",
        "    \n",
        "    i=0;j=0;k=0\n",
        "    while i<len(mitadIzquierda) and j<len(mitadDerecha):\n",
        "      if mitadIzquierda[i]<mitadDerecha[j]:\n",
        "        unaLista[k]=mitadIzquierda[i]\n",
        "        i=i+1\n",
        "      else:\n",
        "        unaLista[k]=mitadDerecha[j]\n",
        "        j=j+1\n",
        "      k=k+1\n",
        "      \n",
        "    while i<len(mitadIzquierda):\n",
        "      unaLista[k]=mitadIzquierda[i]\n",
        "      i=i+1\n",
        "      k=k+1\n",
        "      \n",
        "    while j<len(mitadDerecha):\n",
        "      unaLista[k]=mitadDerecha[j]\n",
        "      j=j+1\n",
        "      k=k+1\n",
        "      \n",
        "  print(\"Mezclar \",unaLista)\n",
        "  \n",
        "unaLista=[54,26,93,17,77,31,44,55,20]\n",
        "ordenamientoPorMezcla(unaLista)\n",
        "print(unaLista)"
      ],
      "execution_count": null,
      "outputs": []
    },
    {
      "cell_type": "code",
      "metadata": {
        "id": "x9oPePtAcx9T",
        "colab": {
          "base_uri": "https://localhost:8080/",
          "height": 35
        },
        "outputId": "7f1b499e-f2eb-4a50-af63-5bf755a98412"
      },
      "source": [
        "#Ordenamiento rápido O(n^2)\n",
        "\n",
        "def ordenamientoRapido(unaLista):\n",
        "  ordenamientoRapidoAuxiliar(unaLista,0,len(unaLista)-1)\n",
        "  \n",
        "def ordenamientoRapidoAuxiliar(unaLista,primero,ultimo):\n",
        "  if primero<ultimo:\n",
        "    \n",
        "    puntoDivision=particion(unaLista,primero,ultimo)\n",
        "    \n",
        "    ordenamientoRapidoAuxiliar(unaLista,primero,puntoDivision-1)\n",
        "    ordenamientoRapidoAuxiliar(unaLista,puntoDivision+1,ultimo)\n",
        "    \n",
        "def particion(unaLista,primero,ultimo):\n",
        "  valorPivote=unaLista[primero]\n",
        "  \n",
        "  marcaIzq=primero+1\n",
        "  marcaDer=ultimo\n",
        "  \n",
        "  hecho=False\n",
        "  while not hecho:\n",
        "    \n",
        "    while marcaIzq<=marcaDer and unaLista[marcaIzq]<=valorPivote:\n",
        "      marcaIzq=marcaIzq+1\n",
        "      \n",
        "    while unaLista[marcaDer]>=valorPivote and marcaDer>=marcaIzq:\n",
        "      marcaDer=marcaDer-1\n",
        "      \n",
        "    if marcaDer<marcaIzq:\n",
        "      hecho=True\n",
        "      \n",
        "    else:\n",
        "      temp=unaLista[marcaIzq]\n",
        "      unaLista[marcaIzq]=unaLista[marcaDer]\n",
        "      unaLista[marcaDer]=temp\n",
        "      \n",
        "  temp=unaLista[primero]\n",
        "  unaLista[primero]=unaLista[marcaDer]\n",
        "  unaLista[marcaDer]=temp\n",
        "  \n",
        "  return marcaDer\n",
        "\n",
        "unaLista=[54,26,93,17,77,31,44,55,20]\n",
        "ordenamientoRapido(unaLista)\n",
        "print(unaLista)"
      ],
      "execution_count": null,
      "outputs": [
        {
          "output_type": "stream",
          "text": [
            "[17, 20, 26, 31, 44, 54, 55, 77, 93]\n"
          ],
          "name": "stdout"
        }
      ]
    }
  ]
}